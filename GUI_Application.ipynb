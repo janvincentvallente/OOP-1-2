{
  "nbformat": 4,
  "nbformat_minor": 0,
  "metadata": {
    "colab": {
      "name": "GUI Application.ipynb",
      "provenance": [],
      "authorship_tag": "ABX9TyNmy92nPXNmkGzl61x/ASAp",
      "include_colab_link": true
    },
    "kernelspec": {
      "name": "python3",
      "display_name": "Python 3"
    },
    "language_info": {
      "name": "python"
    }
  },
  "cells": [
    {
      "cell_type": "markdown",
      "metadata": {
        "id": "view-in-github",
        "colab_type": "text"
      },
      "source": [
        "<a href=\"https://colab.research.google.com/github/janvincentvallente/OOP-1-2/blob/main/GUI_Application.ipynb\" target=\"_parent\"><img src=\"https://colab.research.google.com/assets/colab-badge.svg\" alt=\"Open In Colab\"/></a>"
      ]
    },
    {
      "cell_type": "code",
      "execution_count": 9,
      "metadata": {
        "colab": {
          "base_uri": "https://localhost:8080/"
        },
        "id": "w2K-gGuVlsqS",
        "outputId": "624a515f-40da-45d2-c527-d91a259821ab"
      },
      "outputs": [
        {
          "output_type": "stream",
          "name": "stdout",
          "text": [
            "The prelim grade of student 1 is 90\n",
            "The prelim grade of student 1 is 95\n",
            "The prelim grade of student 1 is 100\n",
            "The semestral grade of student 1 is 95.0\n",
            "His gender is Male\n"
          ]
        }
      ],
      "source": [
        "#@title Students Grade in OOP\n",
        "\n",
        "Student_Name1 = \"Enter the student name\" #@param {type: \"string\"}\n",
        "prelim =  90#@param {type: \"number\"}\n",
        "midterm =  95#@param {type: \"number\"}\n",
        "final =  100#@param {type: \"number\"}\n",
        "semestral_grade = (prelim+midterm+final)/3\n",
        "\n",
        "print(\"The prelim grade of student 1 is\"+\" \"+ str(prelim))\n",
        "print(\"The prelim grade of student 1 is\"+\" \"+ str(midterm))\n",
        "print(\"The prelim grade of student 1 is\"+\" \"+ str(final))     \n",
        "print(\"The semestral grade of student 1 is\"+\" \"+ str(semestral_grade))\n",
        "\n",
        "#@title Gender\n",
        "Gender = \"Male\" #@param [\"Male\", \"Female\"]\n",
        "print(\"His gender is\"+\" \"+ str(Gender))\n",
        "\n",
        "Birthdate = \"2001-09-08\" #@param {type: \"date\"}"
      ]
    }
  ]
}
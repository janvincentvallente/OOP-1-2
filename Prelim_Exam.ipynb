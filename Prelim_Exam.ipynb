{
  "nbformat": 4,
  "nbformat_minor": 0,
  "metadata": {
    "colab": {
      "name": "Prelim_Exam.ipynb",
      "provenance": [],
      "collapsed_sections": [],
      "authorship_tag": "ABX9TyNfSRH0MO5OCfAJvVpkwWpA",
      "include_colab_link": true
    },
    "kernelspec": {
      "name": "python3",
      "display_name": "Python 3"
    },
    "language_info": {
      "name": "python"
    }
  },
  "cells": [
    {
      "cell_type": "markdown",
      "metadata": {
        "id": "view-in-github",
        "colab_type": "text"
      },
      "source": [
        "<a href=\"https://colab.research.google.com/github/janvincentvallente/OOP-1-2/blob/main/Prelim_Exam.ipynb\" target=\"_parent\"><img src=\"https://colab.research.google.com/assets/colab-badge.svg\" alt=\"Open In Colab\"/></a>"
      ]
    },
    {
      "cell_type": "markdown",
      "source": [
        "Problem 2:\n",
        "1. Write a Python to display your full name, student number, age, and course\n",
        "2. Create a class named Student with attributes: Name, Student_No, Age, School, \n",
        "and Course\n",
        "3. Create an object name Myself and assign an instance for each attribute.\n",
        "4. Create a method Info() using an instantiation of a class.\n",
        "5. Insert your GitHub link \"Prelim Exam\" from your repository named \"OOP 1-2\""
      ],
      "metadata": {
        "id": "p779YtktU5ZO"
      }
    },
    {
      "cell_type": "code",
      "execution_count": 8,
      "metadata": {
        "colab": {
          "base_uri": "https://localhost:8080/"
        },
        "id": "u2YZ5FecUp4L",
        "outputId": "5ca501c9-365c-41bb-c940-0b4855fe1387"
      },
      "outputs": [
        {
          "output_type": "stream",
          "name": "stdout",
          "text": [
            "Name: Jan Vincent C. Vallente\n",
            "Student No.: 202102026\n",
            "Age: 20\n",
            "School: Cavite State University\n",
            "Course: BS Computer Engineering\n"
          ]
        }
      ],
      "source": [
        "class Student:\n",
        "  def __init__(self, Name, Student_No, Age, School, Course):\n",
        "    self.Name = Name\n",
        "    self.Student_No = Student_No\n",
        "    self.Age = Age\n",
        "    self.School = School\n",
        "    self.Course = Course\n",
        "\n",
        "  def Info(self):\n",
        "    print(self.Name)\n",
        "    print(self.Student_No)\n",
        "    print(self.Age)\n",
        "    print(self.School)\n",
        "    print(self.Course)\n",
        "\n",
        "Myself = Student(\"Jan Vincent C. Vallente\", 202102026, 20, \"Cavite State University\", \"BS Computer Engineering\")\n",
        "\n",
        "print(\"Name:\",Myself.Name)\n",
        "print(\"Student No.:\",Myself.Student_No)\n",
        "print(\"Age:\",Myself.Age)\n",
        "print(\"School:\",Myself.School)\n",
        "print(\"Course:\",Myself.Course)"
      ]
    }
  ]
}
{
  "nbformat": 4,
  "nbformat_minor": 0,
  "metadata": {
    "colab": {
      "name": "OOP Concepts(2).ipynb",
      "provenance": [],
      "collapsed_sections": [],
      "authorship_tag": "ABX9TyNfv5tcOASCfC78sWef7qc9",
      "include_colab_link": true
    },
    "kernelspec": {
      "name": "python3",
      "display_name": "Python 3"
    },
    "language_info": {
      "name": "python"
    }
  },
  "cells": [
    {
      "cell_type": "markdown",
      "metadata": {
        "id": "view-in-github",
        "colab_type": "text"
      },
      "source": [
        "<a href=\"https://colab.research.google.com/github/janvincentvallente/OOP-1-2/blob/main/OOP_Concepts(2).ipynb\" target=\"_parent\"><img src=\"https://colab.research.google.com/assets/colab-badge.svg\" alt=\"Open In Colab\"/></a>"
      ]
    },
    {
      "cell_type": "markdown",
      "source": [
        "Classes with Multiple Objects"
      ],
      "metadata": {
        "id": "qE9BH9cjVQuC"
      }
    },
    {
      "cell_type": "code",
      "execution_count": null,
      "metadata": {
        "colab": {
          "base_uri": "https://localhost:8080/"
        },
        "id": "rBaoKKCgTBM6",
        "outputId": "4721e50d-1630-4e44-839e-8d58692310f5"
      },
      "outputs": [
        {
          "output_type": "stream",
          "name": "stdout",
          "text": [
            "Griffon Vulture flies above the sky\n",
            "Common Crane flies above the sky\n",
            "Emu is the national bird of the Philippines\n"
          ]
        }
      ],
      "source": [
        "class Birds:\n",
        "  def __init__(self,bird_name):\n",
        "    self.bird_name = bird_name\n",
        "\n",
        "  def flying_birds(self):\n",
        "    print(f\"{self.bird_name} flies above the sky\")\n",
        "\n",
        "  def non_flying_birds(self):\n",
        "    print(f\"{self.bird_name} is the national bird of the Philippines\")\n",
        "\n",
        "vulture = Birds(\"Griffon Vulture\")\n",
        "crane = Birds(\"Common Crane\")\n",
        "emu = Birds(\"Emu\")\n",
        "\n",
        "vulture.flying_birds()\n",
        "crane.flying_birds()\n",
        "emu.non_flying_birds()"
      ]
    },
    {
      "cell_type": "markdown",
      "source": [
        "Encapsulation"
      ],
      "metadata": {
        "id": "JFYKAB9dXSX6"
      }
    },
    {
      "cell_type": "code",
      "source": [
        "class foo:\n",
        "  def __init__(self,a,b):\n",
        "    self.a = a\n",
        "    self.b = b\n",
        "\n",
        "  def add(self):\n",
        "    return self.a + self.b\n",
        "\n",
        "number = foo(3,4)\n",
        "number.add()\n",
        "\n",
        "number.a = 9    #9+4=13\n",
        "\n",
        "number.add()"
      ],
      "metadata": {
        "colab": {
          "base_uri": "https://localhost:8080/"
        },
        "id": "Dc8XOTLMXU3I",
        "outputId": "aecf19b3-8c82-46fc-dcc3-0f95966dcbe3"
      },
      "execution_count": null,
      "outputs": [
        {
          "output_type": "execute_result",
          "data": {
            "text/plain": [
              "13"
            ]
          },
          "metadata": {},
          "execution_count": 3
        }
      ]
    },
    {
      "cell_type": "markdown",
      "source": [
        "Encapsulation using mangling with double underscores"
      ],
      "metadata": {
        "id": "AwYITSDVYzBF"
      }
    },
    {
      "cell_type": "code",
      "source": [
        "class foo:\n",
        "  def __init__(self,a,b):\n",
        "    self.__a = a\n",
        "    self.__b = b\n",
        "\n",
        "  def add(self):\n",
        "    return self.__a + self.__b\n",
        "\n",
        "number = foo(3,4)\n",
        "number.add()\n",
        "\n",
        "number.a = 7    #7+4=11\n",
        "\n",
        "number.add()"
      ],
      "metadata": {
        "colab": {
          "base_uri": "https://localhost:8080/"
        },
        "id": "q712SMjjY6Wi",
        "outputId": "992da25d-3054-4712-914a-098174d710d8"
      },
      "execution_count": null,
      "outputs": [
        {
          "output_type": "execute_result",
          "data": {
            "text/plain": [
              "7"
            ]
          },
          "metadata": {},
          "execution_count": 4
        }
      ]
    },
    {
      "cell_type": "markdown",
      "source": [
        "Encapsulation with Private Attributes"
      ],
      "metadata": {
        "id": "J5F81nesZb7S"
      }
    },
    {
      "cell_type": "code",
      "source": [
        "class Counter:\n",
        "  def __init__(self):\n",
        "    self.current = 0\n",
        "\n",
        "  def increment(self):\n",
        "    self.current +=1\n",
        "  def value(self):\n",
        "    return self.current\n",
        "  def reset(self):\n",
        "    self.current = 0\n",
        "\n",
        "num = Counter()\n",
        "num.increment()   #counter=counter + 1\n",
        "num.increment()\n",
        "num.increment()\n",
        "\n",
        "num.value()"
      ],
      "metadata": {
        "colab": {
          "base_uri": "https://localhost:8080/"
        },
        "id": "LoIdlVAXZjuN",
        "outputId": "5612ff20-8611-40e8-9125-9e11ea2e8df0"
      },
      "execution_count": null,
      "outputs": [
        {
          "output_type": "execute_result",
          "data": {
            "text/plain": [
              "3"
            ]
          },
          "metadata": {},
          "execution_count": 5
        }
      ]
    },
    {
      "cell_type": "markdown",
      "source": [
        "Encapsulation with Private Attributes using mangling with double underscores"
      ],
      "metadata": {
        "id": "SlNV7ompcdhT"
      }
    },
    {
      "cell_type": "code",
      "source": [
        "class Counter:\n",
        "  def __init__(self):\n",
        "    self.__current = 0\n",
        "\n",
        "  def increment(self):\n",
        "    self.__current +=1\n",
        "  def value(self):\n",
        "    return self.__current\n",
        "  def reset(self):\n",
        "    self.__current = 0\n",
        "\n",
        "num = Counter()\n",
        "num.increment()   #counter=counter + 1\n",
        "num.increment()\n",
        "num.increment()\n",
        "\n",
        "num.counter = 1\n",
        "\n",
        "num.increment()\n",
        "\n",
        "num.value()"
      ],
      "metadata": {
        "colab": {
          "base_uri": "https://localhost:8080/"
        },
        "id": "T2c4Hg1uapAs",
        "outputId": "70d6d2f3-b44e-46de-cbc5-f4fd19fa0d8e"
      },
      "execution_count": null,
      "outputs": [
        {
          "output_type": "execute_result",
          "data": {
            "text/plain": [
              "4"
            ]
          },
          "metadata": {},
          "execution_count": 10
        }
      ]
    },
    {
      "cell_type": "markdown",
      "source": [
        "Inheritance"
      ],
      "metadata": {
        "id": "pfbZUwNudHyZ"
      }
    },
    {
      "cell_type": "code",
      "source": [
        "class Person:\n",
        "  def __init__(self,firstname,surname):\n",
        "    self.firstname = firstname\n",
        "    self.surname = surname\n",
        "\n",
        "  def printname(self):\n",
        "    print(self.firstname, self.surname)\n",
        "\n",
        "person = Person(\"Ana\", \"Santos\")\n",
        "person.printname()\n",
        "\n",
        "class Teacher(Person):\n",
        "  pass\n",
        "\n",
        "person2 = Teacher(\"Maria\", \"Sayo\")\n",
        "person2.printname()\n",
        "\n",
        "class Student(Person):\n",
        "  pass\n",
        "\n",
        "person3 = Student(\"Jan Vincent\", \"Vallente\")\n",
        "person3.printname()"
      ],
      "metadata": {
        "colab": {
          "base_uri": "https://localhost:8080/"
        },
        "id": "irN3cC8rdKF7",
        "outputId": "f41c57bb-bd12-4fce-fa61-8de9b8f5bdfb"
      },
      "execution_count": null,
      "outputs": [
        {
          "output_type": "stream",
          "name": "stdout",
          "text": [
            "Ana Santos\n",
            "Maria Sayo\n",
            "Jan Vincent Vallente\n"
          ]
        }
      ]
    },
    {
      "cell_type": "markdown",
      "source": [
        "Polymorphism"
      ],
      "metadata": {
        "id": "vuyWnbgXfKyz"
      }
    },
    {
      "cell_type": "code",
      "source": [
        "class RegularPolygon:\n",
        "    def __init__(self,side):\n",
        "        self.side = side\n",
        "class Square(RegularPolygon):\n",
        "    def area(self):\n",
        "        return self.side * self.side\n",
        "class EquilateralTriangle(RegularPolygon):\n",
        "    def area(self):\n",
        "        return self.side * self.side * 0.433\n",
        "\n",
        "object = Square(4)\n",
        "print(object.area())\n",
        "\n",
        "object2 = EquilateralTriangle(3)\n",
        "print(object2.area())"
      ],
      "metadata": {
        "colab": {
          "base_uri": "https://localhost:8080/"
        },
        "id": "tCb6j0tsf_nd",
        "outputId": "68a971b7-03b6-40a0-de3f-6940821f7e12"
      },
      "execution_count": null,
      "outputs": [
        {
          "output_type": "stream",
          "name": "stdout",
          "text": [
            "16\n",
            "3.897\n"
          ]
        }
      ]
    },
    {
      "cell_type": "markdown",
      "source": [
        "Application 1\n",
        "\n",
        "1. Create a Python Program that displays the name of three students (Student 1, Student 2, and Student 3) and their term grades.\n",
        "2. Create a class name Person and attributes - std1, std2, std3, pre,mid,fin\n",
        "3. Compute the average of each term grade using Grade() method\n",
        "4. Information about student's grades must be hidden from others\n",
        "\n"
      ],
      "metadata": {
        "id": "ylwpsPuWhkuV"
      }
    },
    {
      "cell_type": "code",
      "source": [
        "class Person:\n",
        "  def __init__(self,studentname,pre,mid,fin):\n",
        "    self.__studentname = studentname\n",
        "    self.__pre = pre\n",
        "    self.__mid = mid\n",
        "    self.__fin = fin\n",
        "\n",
        "  def Grade(self):\n",
        "    self.Grade = ((self.__pre + self.__mid + self.__fin) / 3)\n",
        "\n",
        "  def display(self):\n",
        "    self.Grade()\n",
        "    if self.Grade >= 75:\n",
        "      self.status = \"Passed\"\n",
        "\n",
        "    else:\n",
        "      self.status = \"Failed\"\n",
        "    print(\"Average Grade: {} ({})\".format(round(self.Grade,0), self.status))\n",
        "\n",
        "print()\n",
        "print(\"Student Assessment\")\n",
        "print()\n",
        "\n",
        "class Student1(Person):\n",
        "  pass\n",
        "\n",
        "print(\"Student 1\")\n",
        "print()\n",
        "studentname = str(input(\"Name: \"))\n",
        "pre = float(input(\"Prelims: \"))\n",
        "mid = float(input(\"Midterms: \"))\n",
        "fin = float(input(\"Finals: \"))\n",
        "\n",
        "std1 = Person(studentname,pre,mid,fin)\n",
        "std1.display()\n",
        "print(\"\\n\")\n",
        "\n",
        "class Student2(Person):\n",
        "  pass\n",
        "\n",
        "print(\"Student 2\")\n",
        "print()\n",
        "studentname = str(input(\"Name: \"))\n",
        "pre = float(input(\"Prelims: \"))\n",
        "mid = float(input(\"Midterms: \"))\n",
        "fin = float(input(\"Finals: \"))\n",
        "\n",
        "std2 = Person(studentname,pre,mid,fin)\n",
        "std2.display()\n",
        "print(\"\\n\")\n",
        "\n",
        "class Student3(Person):\n",
        "  pass\n",
        "  \n",
        "print(\"Student 3\")\n",
        "print()\n",
        "studentname = str(input(\"Name: \"))\n",
        "pre = float(input(\"Prelims: \"))\n",
        "mid = float(input(\"Midterms: \"))\n",
        "fin = float(input(\"Finals: \"))\n",
        "\n",
        "std3 = Person(studentname,pre,mid,fin)\n",
        "std3.display()\n",
        "print(\"\\n\")"
      ],
      "metadata": {
        "colab": {
          "base_uri": "https://localhost:8080/"
        },
        "id": "ytSjTpSMc6cR",
        "outputId": "989172d8-6f4d-4022-b400-92fb5f4d0946"
      },
      "execution_count": 5,
      "outputs": [
        {
          "output_type": "stream",
          "name": "stdout",
          "text": [
            "\n",
            "Student Assessment\n",
            "\n",
            "Student 1\n",
            "\n",
            "Name: JV\n",
            "Prelims: 99\n",
            "Midterms: 98\n",
            "Finals: 97\n",
            "Average Grade: 98.0 (Passed)\n",
            "\n",
            "\n",
            "Student 2\n",
            "\n",
            "Name: Vincent\n",
            "Prelims: 74\n",
            "Midterms: 75\n",
            "Finals: 73\n",
            "Average Grade: 74.0 (Failed)\n",
            "\n",
            "\n",
            "Student 3\n",
            "\n",
            "Name: Jan Vincent\n",
            "Prelims: 80\n",
            "Midterms: 85\n",
            "Finals: 95\n",
            "Average Grade: 87.0 (Passed)\n",
            "\n",
            "\n"
          ]
        }
      ]
    }
  ]
}
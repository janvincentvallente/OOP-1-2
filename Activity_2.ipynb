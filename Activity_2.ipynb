{
  "nbformat": 4,
  "nbformat_minor": 0,
  "metadata": {
    "colab": {
      "name": "Activity 2.ipynb",
      "provenance": [],
      "collapsed_sections": [],
      "authorship_tag": "ABX9TyOt5jJb2DNCWbY2INeExUnN",
      "include_colab_link": true
    },
    "kernelspec": {
      "name": "python3",
      "display_name": "Python 3"
    },
    "language_info": {
      "name": "python"
    }
  },
  "cells": [
    {
      "cell_type": "markdown",
      "metadata": {
        "id": "view-in-github",
        "colab_type": "text"
      },
      "source": [
        "<a href=\"https://colab.research.google.com/github/janvincentvallente/OOP-1-2/blob/main/Activity_2.ipynb\" target=\"_parent\"><img src=\"https://colab.research.google.com/assets/colab-badge.svg\" alt=\"Open In Colab\"/></a>"
      ]
    },
    {
      "cell_type": "code",
      "execution_count": null,
      "metadata": {
        "colab": {
          "base_uri": "https://localhost:8080/"
        },
        "id": "zt2-brMlS7td",
        "outputId": "1d7ff822-974d-407d-ef39-3fed020fef53"
      },
      "outputs": [
        {
          "output_type": "stream",
          "name": "stdout",
          "text": [
            "Temperature in Celcius: 37\n",
            "Temperature in Fahrenheit: 98.6\n"
          ]
        }
      ],
      "source": [
        "#Write a python program that converts the temperature Celcius to Fahrenheit. Create a class name Temperature.\n",
        "#Create Celcius as attribute name. Temp() as method, and temp1 as object name. F=1.8xC + 32\n",
        "\n",
        "class Temperature:\n",
        "\n",
        "  def __init__(self,Celcius):\n",
        "    self.Celcius = Celcius\n",
        "\n",
        "  def Temp(self):\n",
        "    return ((1.8 * self.Celcius)+ 32)\n",
        "\n",
        "  def display(self):\n",
        "    print(\"Temperature in Fahrenheit:\", round(self.Temp(),2))\n",
        "\n",
        "temp1 = Temperature(37)\n",
        "\n",
        "print(\"Temperature in Celcius:\", temp1.Celcius)\n",
        "temp1.display()"
      ]
    },
    {
      "cell_type": "code",
      "source": [
        "# Define an Area() method of the class that calculates the circle’s area \n",
        "# Area = 3.14 x r^2\n",
        "\n",
        "class Circle:                     #Circle as class name\n",
        "\n",
        "  def __init__(self, radius):     #radius as attribute\n",
        "    self.radius = radius\n",
        "\n",
        "  def Area(self):                 #Area() as method\n",
        "    return (3.14 * (self.radius * self.radius))\n",
        "\n",
        "  def display(self):\n",
        "    print(\"The area of the circle is\",self.Area())\n",
        "\n",
        "circle = Circle(4)                #circle as object name\n",
        "\n",
        "print(\"radius =\",circle.radius)\n",
        "circle.display()"
      ],
      "metadata": {
        "colab": {
          "base_uri": "https://localhost:8080/"
        },
        "id": "iaadY3XZkZaA",
        "outputId": "f38fb24c-a12b-4b67-fd2b-d12d1ddbaba0"
      },
      "execution_count": null,
      "outputs": [
        {
          "output_type": "stream",
          "name": "stdout",
          "text": [
            "radius = 4\n",
            "The area of the circle is 50.24\n"
          ]
        }
      ]
    },
    {
      "cell_type": "code",
      "source": [
        "#Define a Perimeter() method of the class which allows you to calculate the perimeter of the circle.\n",
        "#Perimeter/Circumference = 2 x 3.14 x radius\n",
        "\n",
        "class Circle:                     #Circle as class name\n",
        "\n",
        "  def __init__(self, radius):     #radius as attribute\n",
        "    self.radius = radius\n",
        "\n",
        "  def Perimeter(self):            #Perimeter() as method\n",
        "    return (2 * 3.14 * self.radius)\n",
        "\n",
        "input_perimeter = float(input(\"Input radius: \"))\n",
        "circle = Circle(input_perimeter)  #circle as object name\n",
        "print(\"Perimeter of the circle is\",round(circle.Perimeter(),2))"
      ],
      "metadata": {
        "colab": {
          "base_uri": "https://localhost:8080/"
        },
        "id": "3QyGz6Z88WQo",
        "outputId": "a1e46c2b-9dd6-4c32-ae57-2a65742919d0"
      },
      "execution_count": null,
      "outputs": [
        {
          "output_type": "stream",
          "name": "stdout",
          "text": [
            "Input radius: 4\n",
            "Perimeter of the circle is 25.12\n"
          ]
        }
      ]
    }
  ]
}